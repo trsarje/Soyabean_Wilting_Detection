{
  "nbformat": 4,
  "nbformat_minor": 0,
  "metadata": {
    "colab": {
      "name": "Test.ipynb",
      "provenance": [],
      "collapsed_sections": []
    },
    "kernelspec": {
      "name": "python3",
      "display_name": "Python 3"
    },
    "accelerator": "GPU"
  },
  "cells": [
    {
      "cell_type": "code",
      "metadata": {
        "id": "QvZU5nyGB76e"
      },
      "source": [
        "import tensorflow as tf\r\n",
        "import os\r\n",
        "import sys  \r\n",
        "import glob\r\n",
        "import cv2\r\n",
        "import numpy as np"
      ],
      "execution_count": null,
      "outputs": []
    },
    {
      "cell_type": "code",
      "metadata": {
        "id": "q7kmhrvGDyLD"
      },
      "source": [
        "img_dir = \"/content/drive/MyDrive/SoyabeanWilting/data/TestData\" # Enter Directory of test images \r\n",
        "data_path = os.path.join(img_dir,'*g')\r\n",
        "files = glob.glob(data_path)\r\n",
        "data=[]\r\n",
        "for f1 in files: \r\n",
        "  img = cv2.imread(f1)               # Read the image in the test directory\r\n",
        "  img = cv2.resize(img,(224,224))    # Resize the image \r\n",
        "  data.append(img)   \r\n"
      ],
      "execution_count": null,
      "outputs": []
    },
    {
      "cell_type": "code",
      "metadata": {
        "id": "yTgXCm25F8nT"
      },
      "source": [
        "data = np.array(data)"
      ],
      "execution_count": null,
      "outputs": []
    },
    {
      "cell_type": "code",
      "metadata": {
        "id": "CjtSA7_tILI_",
        "colab": {
          "base_uri": "https://localhost:8080/"
        },
        "outputId": "01431633-cf96-44d9-c293-b48f3c48ba66"
      },
      "source": [
        "data.shape"
      ],
      "execution_count": null,
      "outputs": [
        {
          "output_type": "execute_result",
          "data": {
            "text/plain": [
              "(200, 224, 224, 3)"
            ]
          },
          "metadata": {
            "tags": []
          },
          "execution_count": 4
        }
      ]
    },
    {
      "cell_type": "code",
      "metadata": {
        "id": "fHOYfZ1_INTW"
      },
      "source": [
        "# load json and create model\r\n",
        "json_file = open('../Model/model.json', 'r')\r\n",
        "loaded_model_json = json_file.read()\r\n",
        "json_file.close()\r\n",
        "loaded_model = tf.keras.models.model_from_json(loaded_model_json)"
      ],
      "execution_count": null,
      "outputs": []
    },
    {
      "cell_type": "code",
      "metadata": {
        "colab": {
          "base_uri": "https://localhost:8080/"
        },
        "id": "ethM9GWffq-B",
        "outputId": "1d2f7907-1c21-4da5-8140-92ac142f29ff"
      },
      "source": [
        "loaded_model.summary()"
      ],
      "execution_count": null,
      "outputs": [
        {
          "output_type": "stream",
          "text": [
            "Model: \"sequential\"\n",
            "_________________________________________________________________\n",
            "Layer (type)                 Output Shape              Param #   \n",
            "=================================================================\n",
            "vgg16 (Functional)           (None, 7, 7, 512)         14714688  \n",
            "_________________________________________________________________\n",
            "conv2d (Conv2D)              (None, 3, 3, 512)         6554112   \n",
            "_________________________________________________________________\n",
            "max_pooling2d (MaxPooling2D) (None, 1, 1, 512)         0         \n",
            "_________________________________________________________________\n",
            "global_average_pooling2d_1 ( (None, 512)               0         \n",
            "_________________________________________________________________\n",
            "dense_1 (Dense)              (None, 512)               262656    \n",
            "_________________________________________________________________\n",
            "dropout (Dropout)            (None, 512)               0         \n",
            "_________________________________________________________________\n",
            "dense_2 (Dense)              (None, 256)               131328    \n",
            "_________________________________________________________________\n",
            "batch_normalization (BatchNo (None, 256)               1024      \n",
            "_________________________________________________________________\n",
            "dense_3 (Dense)              (None, 128)               32896     \n",
            "_________________________________________________________________\n",
            "dropout_1 (Dropout)          (None, 128)               0         \n",
            "_________________________________________________________________\n",
            "dense_4 (Dense)              (None, 64)                8256      \n",
            "_________________________________________________________________\n",
            "batch_normalization_1 (Batch (None, 64)                256       \n",
            "_________________________________________________________________\n",
            "dense_5 (Dense)              (None, 32)                2080      \n",
            "_________________________________________________________________\n",
            "dropout_2 (Dropout)          (None, 32)                0         \n",
            "_________________________________________________________________\n",
            "dense_6 (Dense)              (None, 16)                528       \n",
            "_________________________________________________________________\n",
            "dense_7 (Dense)              (None, 5)                 85        \n",
            "=================================================================\n",
            "Total params: 21,707,909\n",
            "Trainable params: 14,072,005\n",
            "Non-trainable params: 7,635,904\n",
            "_________________________________________________________________\n"
          ],
          "name": "stdout"
        }
      ]
    },
    {
      "cell_type": "code",
      "metadata": {
        "colab": {
          "base_uri": "https://localhost:8080/"
        },
        "id": "Y8fIGsz7flvZ",
        "outputId": "de896c99-b611-48c6-a6c1-b78973e7e991"
      },
      "source": [
        "# load weights into new model\r\n",
        "loaded_model.load_weights(\"../Model/model_weight.h5\")\r\n",
        "print(\"Loaded model from disk\")"
      ],
      "execution_count": null,
      "outputs": [
        {
          "output_type": "stream",
          "text": [
            "Loaded model from disk\n"
          ],
          "name": "stdout"
        }
      ]
    },
    {
      "cell_type": "code",
      "metadata": {
        "id": "s1dG2EhOfpUH"
      },
      "source": [
        "# evaluate loaded model on test data\r\n",
        "loaded_model.compile(loss=tf.keras.losses.SparseCategoricalCrossentropy(from_logits=True),\r\n",
        "                     optimizer=tf.keras.optimizers.Adam(lr=0.0001,),\r\n",
        "                     metrics=['accuracy'])"
      ],
      "execution_count": null,
      "outputs": []
    },
    {
      "cell_type": "code",
      "metadata": {
        "id": "Qt5WUrA8ea63"
      },
      "source": [
        "score = loaded_model.predict(data)"
      ],
      "execution_count": null,
      "outputs": []
    },
    {
      "cell_type": "code",
      "metadata": {
        "id": "OMkBJebrgiwg"
      },
      "source": [
        "Test = []\r\n",
        "for i in score:\r\n",
        "  Test.append(np.argmax(i))"
      ],
      "execution_count": null,
      "outputs": []
    },
    {
      "cell_type": "code",
      "metadata": {
        "id": "oIlhCCwYg4ai"
      },
      "source": [
        ""
      ],
      "execution_count": null,
      "outputs": []
    }
  ]
}