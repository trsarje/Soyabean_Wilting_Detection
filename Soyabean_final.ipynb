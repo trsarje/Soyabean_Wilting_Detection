{
  "nbformat": 4,
  "nbformat_minor": 0,
  "metadata": {
    "accelerator": "GPU",
    "colab": {
      "name": "Soyabean_final.ipynb",
      "provenance": [],
      "collapsed_sections": [],
      "machine_shape": "hm"
    },
    "kernelspec": {
      "display_name": "Python 3",
      "language": "python",
      "name": "python3"
    },
    "language_info": {
      "codemirror_mode": {
        "name": "ipython",
        "version": 3
      },
      "file_extension": ".py",
      "mimetype": "text/x-python",
      "name": "python",
      "nbconvert_exporter": "python",
      "pygments_lexer": "ipython3",
      "version": "3.7.4"
    }
  },
  "cells": [
    {
      "cell_type": "code",
      "metadata": {
        "id": "GcrlIhMbRwOS"
      },
      "source": [
        "import numpy as np\n",
        "from sklearn.utils.class_weight import compute_class_weight\n",
        "from sklearn.metrics import confusion_matrix, classification_report\n",
        "import matplotlib.pyplot as plt\n",
        "import seaborn as sns\n",
        "import tensorflow as tf\n",
        "from tensorflow import keras\n",
        "from sklearn.model_selection import train_test_split\n",
        "from tensorflow.keras.preprocessing.image import ImageDataGenerator\n",
        "import pandas as pd\n",
        "import cv2\n",
        "import os\n",
        "import glob\n",
        "from tensorflow.keras import regularizers\n",
        "from tensorflow.keras.models import Sequential\n",
        "from tensorflow.keras import initializers\n",
        "from tensorflow.keras.layers import Dense, Conv2D, Flatten, Dropout, MaxPooling2D, BatchNormalization"
      ],
      "execution_count": null,
      "outputs": []
    },
    {
      "cell_type": "code",
      "metadata": {
        "colab": {
          "base_uri": "https://localhost:8080/"
        },
        "id": "RSPgmWpCSM3N",
        "outputId": "e991a7cb-707c-4d76-d562-0fa220871c5a"
      },
      "source": [
        "from google.colab import drive\n",
        "drive.mount('/content/drive')"
      ],
      "execution_count": null,
      "outputs": [
        {
          "output_type": "stream",
          "text": [
            "Drive already mounted at /content/drive; to attempt to forcibly remount, call drive.mount(\"/content/drive\", force_remount=True).\n"
          ],
          "name": "stdout"
        }
      ]
    },
    {
      "cell_type": "code",
      "metadata": {
        "id": "dPUFQHp-Tlsj"
      },
      "source": [
        "def load_data(x): # flag 1 for training data, 0 for testing data\n",
        "    drct = r\"/content/drive/MyDrive/SoyabeanWilting/data/TrainDataC2/\" #/data/TrainDataC2/\n",
        "    \n",
        "    imgL = []\n",
        "    if x:\n",
        "        df = pd.read_csv('/content/drive/MyDrive/SoyabeanWilting/data/TrainAnnotations.csv')  #/data/TrainAnnotations.csv\n",
        "        for i in range(len(df.annotation)):\n",
        "\n",
        "            name = str(df.file_name[i])      # read the file name from the annotation csv\n",
        "            path = drct+name\n",
        "            img = cv2.imread(path)           # Read the corresponding image\n",
        "            img = cv2.resize(img,(224,224))  # Resize all images to (224, 224) \n",
        "            imgL.append(img) \n",
        "\n",
        "        data = np.array(imgL)                # Convert list of images to numpy array\n",
        "        clas = df.annotation.values  \n",
        "        return data, clas                    # return images and class labels\n",
        "\n",
        "    else: \n",
        "        img_dir = \"/content/drive/MyDrive/SoyabeanWilting/data/TestData\" # Enter Directory of test images \n",
        "        data_path = os.path.join(img_dir,'*g')\n",
        "        files = glob.glob(data_path)\n",
        "        data=[]\n",
        "        for f1 in files: \n",
        "          img = cv2.imread(f1)               # Read the image in the test directory\n",
        "          img = cv2.resize(img,(224,224))    # Resize the image \n",
        "          data.append(img)   \n",
        "        data = np.array(data)\n",
        "        return data                          # Return the array of test images"
      ],
      "execution_count": null,
      "outputs": []
    },
    {
      "cell_type": "code",
      "metadata": {
        "colab": {
          "base_uri": "https://localhost:8080/"
        },
        "id": "cV6O4Q_-RwOd",
        "outputId": "30bcbe05-947c-4a17-e0ed-c1440f14f064"
      },
      "source": [
        "x_train, y_train =  load_data(1)\r\n",
        "x_train.shape, y_train.shape"
      ],
      "execution_count": null,
      "outputs": [
        {
          "output_type": "execute_result",
          "data": {
            "text/plain": [
              "((1275, 224, 224, 3), (1275,))"
            ]
          },
          "metadata": {
            "tags": []
          },
          "execution_count": 4
        }
      ]
    },
    {
      "cell_type": "code",
      "metadata": {
        "colab": {
          "base_uri": "https://localhost:8080/"
        },
        "id": "qQQ2avM1nJok",
        "outputId": "9ba1cef3-49b1-475e-bf06-f10bbbaee1b2"
      },
      "source": [
        "x_test = load_data(0)\r\n",
        "x_test.shape"
      ],
      "execution_count": null,
      "outputs": [
        {
          "output_type": "execute_result",
          "data": {
            "text/plain": [
              "(200, 224, 224, 3)"
            ]
          },
          "metadata": {
            "tags": []
          },
          "execution_count": 5
        }
      ]
    },
    {
      "cell_type": "code",
      "metadata": {
        "id": "IFtczRPlRwOg"
      },
      "source": [
        "def get_dir(x,y):\n",
        "    d_dir = {0:[],1:[],2:[],3:[],4:[]}\n",
        "\n",
        "    for i in range(len(y)):\n",
        "        for c in range(5):\n",
        "            if y[i] == c: \n",
        "                d_dir[c].append(x[i])\n",
        "                break\n",
        "    return d_dir"
      ],
      "execution_count": null,
      "outputs": []
    },
    {
      "cell_type": "code",
      "metadata": {
        "id": "4qrJqZnmWjuh"
      },
      "source": [
        "def augment(image_arr, d):\r\n",
        "    aug_list = np.ndarray(image_arr.shape[1:])\r\n",
        "    aug_list = np.expand_dims(aug_list, axis=0)\r\n",
        "\r\n",
        "    for i in range(d//4):\r\n",
        "\r\n",
        "      image = image_arr[i]                              # Read the image \r\n",
        "      flipped = tf.image.flip_left_right(image)         # Flip the image across verticle axis\r\n",
        "      saturated = tf.image.adjust_saturation(image, 2)  # Add color saturation to the image\r\n",
        "      bright = tf.image.adjust_brightness(image, 0.1)   # Add brightness to the image\r\n",
        "      rotated = tf.image.rot90(image)                   # Rotate the image 90 dec right\r\n",
        "      \r\n",
        "      aug_list = np.vstack((aug_list, np.expand_dims(flipped, axis=0)))\r\n",
        "      aug_list = np.vstack((aug_list, np.expand_dims(saturated, axis=0)))\r\n",
        "      aug_list = np.vstack((aug_list, np.expand_dims(bright, axis=0)))\r\n",
        "      aug_list = np.vstack((aug_list, np.expand_dims(rotated, axis=0)))\r\n",
        "\r\n",
        "    return aug_list"
      ],
      "execution_count": null,
      "outputs": []
    },
    {
      "cell_type": "code",
      "metadata": {
        "colab": {
          "base_uri": "https://localhost:8080/"
        },
        "id": "xU5mGdS1pdqi",
        "outputId": "92ec8176-e47b-4ffd-8858-3ab6c7f130f9"
      },
      "source": [
        "# creating balanced validation dataset\r\n",
        "splitList = [0.08, 0.12, 0.31, 0.30, 0.20]\r\n",
        "data_dir = get_dir(x_train, y_train)\r\n",
        "\r\n",
        "for i in range(len(splitList)):\r\n",
        "  data = np.array(data_dir[i])\r\n",
        "  label = i*np.ones((len(data)))\r\n",
        "  train_X, test_X, train_y, test_y = train_test_split(data, label, test_size=splitList[i])\r\n",
        "\r\n",
        "  # No augmentation for class zero\r\n",
        "  if i == 0:\r\n",
        "    train_data = train_X\r\n",
        "    train_label = train_y\r\n",
        "    val_data = test_X\r\n",
        "    val_label = test_y\r\n",
        "\r\n",
        "  # Augmentation for class 1, 2, 3 and 4\r\n",
        "  else:\r\n",
        "    d = len(data_dir[0]) - len(data_dir[i])\r\n",
        "    aug = augment(train_X, d)\r\n",
        "    print(\"Difference: {} | Images augmented: {}\".format(d, aug.shape[0]))\r\n",
        "\r\n",
        "    train_data = np.vstack((train_data, train_X))\r\n",
        "    train_data = np.vstack((train_data, aug))\r\n",
        "    train_label = np.hstack((train_label, train_y))\r\n",
        "    train_label = np.hstack((train_label, i*np.ones((aug.shape[0],))))\r\n",
        "\r\n",
        "    val_data = np.vstack((val_data, test_X))\r\n",
        "    val_label = np.hstack((val_label, test_y))\r\n",
        "  print(\"class {} added | train_data: {} | validation_data: {}\".format(i, train_label.shape, val_label.shape))"
      ],
      "execution_count": null,
      "outputs": [
        {
          "output_type": "stream",
          "text": [
            "class 0 added | train_data: (448,) | validation_data: (40,)\n",
            "Difference: 159 | Images augmented: 157\n",
            "class 1 added | train_data: (894,) | validation_data: (80,)\n",
            "Difference: 358 | Images augmented: 357\n",
            "class 2 added | train_data: (1340,) | validation_data: (121,)\n",
            "Difference: 357 | Images augmented: 357\n",
            "class 3 added | train_data: (1788,) | validation_data: (161,)\n",
            "Difference: 291 | Images augmented: 289\n",
            "class 4 added | train_data: (2234,) | validation_data: (201,)\n"
          ],
          "name": "stdout"
        }
      ]
    },
    {
      "cell_type": "code",
      "metadata": {
        "colab": {
          "base_uri": "https://localhost:8080/",
          "height": 370
        },
        "id": "amlbz3dpUpuK",
        "outputId": "0f9f1e92-a8d7-4a84-f79d-860d6859e9f6"
      },
      "source": [
        "# Read the Original and augmented train label dataframe\r\n",
        "df = pd.read_csv('/content/drive/MyDrive/SoyabeanWilting/data/TrainAnnotations.csv')\r\n",
        "train_df = pd.DataFrame(train_label, columns=[\"annotation\"])\r\n",
        "\r\n",
        "fig, axes = plt.subplots(1, 2, sharex=True, figsize=(10,5))\r\n",
        "fig.suptitle('Class distribution')\r\n",
        "\r\n",
        "# Plot class distribution before and after augmentation\r\n",
        "sns.countplot(x=\"annotation\", data=df, palette=\"Spectral\", ax=axes[0])\r\n",
        "axes[0].set_title('Before Augmentation')\r\n",
        "sns.countplot(x=\"annotation\", data=train_df, palette=\"Spectral\", ax=axes[1])\r\n",
        "axes[1].set_title('After Augmentation')\r\n",
        "plt.show()"
      ],
      "execution_count": null,
      "outputs": [
        {
          "output_type": "display_data",
          "data": {
            "image/png": "[encoded data removed]",
            "text/plain": [
              "<Figure size 720x360 with 2 Axes>"
            ]
          },
          "metadata": {
            "tags": [],
            "needs_background": "light"
          }
        }
      ]
    },
    {
      "cell_type": "code",
      "metadata": {
        "id": "7YM-JXAwQ645"
      },
      "source": [
        "#depth = 5\r\n",
        "#tf.one_hot(train_label, depth)\r\n",
        "#tf.one_hot(val_label, depth)"
      ],
      "execution_count": null,
      "outputs": []
    },
    {
      "cell_type": "code",
      "metadata": {
        "colab": {
          "base_uri": "https://localhost:8080/"
        },
        "id": "6C9l4x2IRwO-",
        "outputId": "e57537ca-d561-4951-98ab-e4c3875f6033"
      },
      "source": [
        "# Obtain Train and Validation dataset\n",
        "train_dataset = tf.data.Dataset.from_tensor_slices((train_data, train_label))\n",
        "val_dataset = tf.data.Dataset.from_tensor_slices((val_data, val_label))\n",
        "print(train_dataset)"
      ],
      "execution_count": null,
      "outputs": [
        {
          "output_type": "stream",
          "text": [
            "<TensorSliceDataset shapes: ((224, 224, 3), ()), types: (tf.float64, tf.float64)>\n"
          ],
          "name": "stdout"
        }
      ]
    },
    {
      "cell_type": "code",
      "metadata": {
        "id": "STOx8f3FRwPF"
      },
      "source": [
        "# All images will be resized to 224 X 224 and cast to 0-1 float format\n",
        "IMG_SIZE = 224 \n",
        "def format_example(image, label):\n",
        "    image = tf.cast(image, tf.float32)\n",
        "    image = (image/255) \n",
        "    image = tf.image.resize(image, (IMG_SIZE, IMG_SIZE))\n",
        "    return image, label"
      ],
      "execution_count": null,
      "outputs": []
    },
    {
      "cell_type": "code",
      "metadata": {
        "colab": {
          "base_uri": "https://localhost:8080/"
        },
        "id": "c8iQ46KCRwPN",
        "outputId": "a707e326-b132-495d-e7f3-128e3e30f421"
      },
      "source": [
        "train = train_dataset.map(format_example)\n",
        "validation = val_dataset.map(format_example)\n",
        "print(type(train))"
      ],
      "execution_count": null,
      "outputs": [
        {
          "output_type": "stream",
          "text": [
            "<class 'tensorflow.python.data.ops.dataset_ops.MapDataset'>\n"
          ],
          "name": "stdout"
        }
      ]
    },
    {
      "cell_type": "code",
      "metadata": {
        "id": "ERE-0rT4RwPW"
      },
      "source": [
        "# Define batch size and input image size\n",
        "BATCH_SIZE = 64\n",
        "IMG_SHAPE = (IMG_SIZE,IMG_SIZE,3)\n",
        "\n",
        "train_batches = train.batch(BATCH_SIZE)\n",
        "validation_batches = validation.batch(BATCH_SIZE)"
      ],
      "execution_count": null,
      "outputs": []
    },
    {
      "cell_type": "code",
      "metadata": {
        "colab": {
          "base_uri": "https://localhost:8080/"
        },
        "id": "o_4DQbHpRwPa",
        "outputId": "37fecec9-6714-4d15-c01f-0448e7b80cdd"
      },
      "source": [
        "# Check batch shape\n",
        "for image_batch, label_batch in train_batches.take(1):\n",
        "    pass\n",
        "image_batch.shape"
      ],
      "execution_count": null,
      "outputs": [
        {
          "output_type": "execute_result",
          "data": {
            "text/plain": [
              "TensorShape([64, 224, 224, 3])"
            ]
          },
          "metadata": {
            "tags": []
          },
          "execution_count": 15
        }
      ]
    },
    {
      "cell_type": "code",
      "metadata": {
        "id": "k_S9Z8aMRwPe"
      },
      "source": [
        "# Define Base model as VGG16 initialized with Imagenet weights\n",
        "base_model = tf.keras.applications.VGG16(input_shape=IMG_SHAPE,\n",
        "                                               include_top=False,\n",
        "                                               weights='imagenet')"
      ],
      "execution_count": null,
      "outputs": []
    },
    {
      "cell_type": "code",
      "metadata": {
        "colab": {
          "base_uri": "https://localhost:8080/"
        },
        "id": "Nb-UBcF0RwPj",
        "outputId": "27083d9e-1f06-4778-fc7e-e05c96c3d696"
      },
      "source": [
        "# Check output feature shape of the base model\n",
        "feature_batch = base_model(image_batch)\n",
        "print(feature_batch.shape)"
      ],
      "execution_count": null,
      "outputs": [
        {
          "output_type": "stream",
          "text": [
            "(64, 7, 7, 512)\n"
          ],
          "name": "stdout"
        }
      ]
    },
    {
      "cell_type": "code",
      "metadata": {
        "id": "eF6IbVidRwPp"
      },
      "source": [
        "# Make the base model trainable\r\n",
        "base_model.trainable = True"
      ],
      "execution_count": null,
      "outputs": []
    },
    {
      "cell_type": "code",
      "metadata": {
        "id": "HgU-AWeLwBzJ"
      },
      "source": [
        "# Fine-tune from this layer onwards\n",
        "fine_tune_at = 15\n",
        "\n",
        "# Freeze all the layers before the `fine_tune_at` layer\n",
        "for layer in base_model.layers[:fine_tune_at]:\n",
        "    layer.trainable =  False"
      ],
      "execution_count": null,
      "outputs": []
    },
    {
      "cell_type": "code",
      "metadata": {
        "id": "LGC_b6mQRwPu"
      },
      "source": [
        "# Add layers after the base model\n",
        "global_average_layer = tf.keras.layers.GlobalAveragePooling2D()\n",
        "feature_batch_average = global_average_layer(feature_batch)"
      ],
      "execution_count": null,
      "outputs": []
    },
    {
      "cell_type": "code",
      "metadata": {
        "colab": {
          "base_uri": "https://localhost:8080/"
        },
        "id": "Y5ray0YvRwP1",
        "outputId": "68fb2272-7a6f-491f-9eb7-c6bea35290b5"
      },
      "source": [
        "prediction_layer = tf.keras.layers.Dense(5,kernel_regularizer=regularizers.l1_l2(l1=0.01,l2=0.01))\n",
        "prediction_batch = prediction_layer(feature_batch_average)\n",
        "print(prediction_batch.shape) "
      ],
      "execution_count": null,
      "outputs": [
        {
          "output_type": "stream",
          "text": [
            "(64, 5)\n"
          ],
          "name": "stdout"
        }
      ]
    },
    {
      "cell_type": "code",
      "metadata": {
        "id": "IAfboUAssMI4"
      },
      "source": [
        "l1 = 0.0013\r\n",
        "l2 = 0.0005\r\n",
        "mom = 0.9\r\n",
        "lr = 0.0001\r\n",
        "drop = 0.6"
      ],
      "execution_count": null,
      "outputs": []
    },
    {
      "cell_type": "code",
      "metadata": {
        "id": "pxuiQ5NyRwP5"
      },
      "source": [
        "model = tf.keras.Sequential([    #,kernel_initializer=initializers.LecunNormal()\n",
        "  base_model,\n",
        "  tf.keras.layers.Conv2D(512, 5, activation=\"elu\"),\n",
        "  tf.keras.layers.MaxPool2D(pool_size=(3,3)),\n",
        "  tf.keras.layers.GlobalAveragePooling2D(),\n",
        "\n",
        "  tf.keras.layers.Dense(512,\n",
        "                        activation='elu',\n",
        "                        kernel_regularizer=regularizers.l1(l1=l1),\n",
        "                        kernel_initializer=initializers.he_normal()),\n",
        "  Dropout(drop), \n",
        "  tf.keras.layers.Dense(256,\n",
        "                        activation='elu',\n",
        "                        kernel_regularizer=regularizers.l1(l1=l1),\n",
        "                        kernel_initializer=initializers.he_normal()),\n",
        "  BatchNormalization(momentum=0.9,epsilon=0.01),\n",
        "  #Dropout(drop), \n",
        "  tf.keras.layers.Dense(128,\n",
        "                        activation='elu',\n",
        "                        kernel_regularizer=regularizers.l1(l1=l1),\n",
        "                        kernel_initializer=initializers.he_normal()),\n",
        "  Dropout(drop), \n",
        "  tf.keras.layers.Dense(64,\n",
        "                        activation='elu',\n",
        "                        kernel_regularizer=regularizers.l1(l1=l1),\n",
        "                        kernel_initializer=initializers.he_normal()),\n",
        "  BatchNormalization(momentum=0.9,epsilon=0.01),\n",
        "  #Dropout(drop), \n",
        "  tf.keras.layers.Dense(32,\n",
        "                        activation='elu',\n",
        "                        kernel_regularizer=regularizers.l1(l1=l1),\n",
        "                        kernel_initializer=initializers.he_normal()),\n",
        "  Dropout(drop), \n",
        "  tf.keras.layers.Dense(16,activation='relu',kernel_regularizer=regularizers.l1(l1=l1)),\n",
        "  tf.keras.layers.Dense(5, activation=\"softmax\"),\n",
        "])"
      ],
      "execution_count": null,
      "outputs": []
    },
    {
      "cell_type": "code",
      "metadata": {
        "colab": {
          "base_uri": "https://localhost:8080/"
        },
        "id": "A1TF5J3QRwP_",
        "outputId": "1b481f0d-0b5a-48ee-d511-c9a0cba98591"
      },
      "source": [
        "model.summary()"
      ],
      "execution_count": null,
      "outputs": [
        {
          "output_type": "stream",
          "text": [
            "Model: \"sequential\"\n",
            "_________________________________________________________________\n",
            "Layer (type)                 Output Shape              Param #   \n",
            "=================================================================\n",
            "vgg16 (Functional)           (None, 7, 7, 512)         14714688  \n",
            "_________________________________________________________________\n",
            "conv2d (Conv2D)              (None, 3, 3, 512)         6554112   \n",
            "_________________________________________________________________\n",
            "max_pooling2d (MaxPooling2D) (None, 1, 1, 512)         0         \n",
            "_________________________________________________________________\n",
            "global_average_pooling2d (Gl (None, 512)               0         \n",
            "_________________________________________________________________\n",
            "dense_1 (Dense)              (None, 512)               262656    \n",
            "_________________________________________________________________\n",
            "dropout (Dropout)            (None, 512)               0         \n",
            "_________________________________________________________________\n",
            "dense_2 (Dense)              (None, 256)               131328    \n",
            "_________________________________________________________________\n",
            "batch_normalization (BatchNo (None, 256)               1024      \n",
            "_________________________________________________________________\n",
            "dense_3 (Dense)              (None, 128)               32896     \n",
            "_________________________________________________________________\n",
            "dropout_1 (Dropout)          (None, 128)               0         \n",
            "_________________________________________________________________\n",
            "dense_4 (Dense)              (None, 64)                8256      \n",
            "_________________________________________________________________\n",
            "batch_normalization_1 (Batch (None, 64)                256       \n",
            "_________________________________________________________________\n",
            "dense_5 (Dense)              (None, 32)                2080      \n",
            "_________________________________________________________________\n",
            "dropout_2 (Dropout)          (None, 32)                0         \n",
            "_________________________________________________________________\n",
            "dense_6 (Dense)              (None, 16)                528       \n",
            "_________________________________________________________________\n",
            "dense_7 (Dense)              (None, 5)                 85        \n",
            "=================================================================\n",
            "Total params: 21,707,909\n",
            "Trainable params: 14,072,005\n",
            "Non-trainable params: 7,635,904\n",
            "_________________________________________________________________\n"
          ],
          "name": "stdout"
        }
      ]
    },
    {
      "cell_type": "code",
      "metadata": {
        "id": "23IjejUDRwP9"
      },
      "source": [
        "model.compile(optimizer=tf.keras.optimizers.Adam(lr=lr,),\n",
        "              loss=tf.keras.losses.SparseCategoricalCrossentropy(from_logits=True),\n",
        "              metrics=[tf.keras.metrics.SparseCategoricalAccuracy(name='accuracy')])"
      ],
      "execution_count": null,
      "outputs": []
    },
    {
      "cell_type": "code",
      "metadata": {
        "colab": {
          "base_uri": "https://localhost:8080/"
        },
        "id": "zrrhxuhmRwQF",
        "outputId": "02934eb0-d467-48df-b3a8-61c6044fa8d9"
      },
      "source": [
        "len(model.trainable_variables)"
      ],
      "execution_count": null,
      "outputs": [
        {
          "output_type": "execute_result",
          "data": {
            "text/plain": [
              "26"
            ]
          },
          "metadata": {
            "tags": []
          },
          "execution_count": 26
        }
      ]
    },
    {
      "cell_type": "code",
      "metadata": {
        "colab": {
          "base_uri": "https://localhost:8080/"
        },
        "id": "7LeygDhsnRkz",
        "outputId": "58a53f3b-60fd-4e28-c476-1473af90d192"
      },
      "source": [
        "w_arr = compute_class_weight('balanced', np.unique(train_label), train_label)\n",
        "weights = {i : w_arr[i] for i in range(5)}\n",
        "weights"
      ],
      "execution_count": null,
      "outputs": [
        {
          "output_type": "execute_result",
          "data": {
            "text/plain": [
              "{0: 0.9973214285714286,\n",
              " 1: 1.0017937219730941,\n",
              " 2: 1.0017937219730941,\n",
              " 3: 0.9973214285714286,\n",
              " 4: 1.0017937219730941}"
            ]
          },
          "metadata": {
            "tags": []
          },
          "execution_count": 27
        }
      ]
    },
    {
      "cell_type": "code",
      "metadata": {
        "id": "0PGY1Q8URwQT",
        "colab": {
          "base_uri": "https://localhost:8080/"
        },
        "outputId": "9c91401a-2d0c-438a-dc1f-ab80b621ef5c"
      },
      "source": [
        "H = model.fit(train_data, train_label,\n",
        "\tvalidation_data=(val_data, val_label),\n",
        "  batch_size= BATCH_SIZE,\n",
        "  epochs=50, \n",
        "  class_weight=weights)"
      ],
      "execution_count": null,
      "outputs": [
        {
          "output_type": "stream",
          "text": [
            "Epoch 1/50\n",
            "35/35 [==============================] - 7s 206ms/step - loss: 31.8484 - accuracy: 0.2158 - val_loss: 31.0934 - val_accuracy: 0.2736\n",
            "Epoch 2/50\n",
            "35/35 [==============================] - 5s 154ms/step - loss: 30.4388 - accuracy: 0.2207 - val_loss: 29.6996 - val_accuracy: 0.2537\n",
            "Epoch 3/50\n",
            "35/35 [==============================] - 5s 154ms/step - loss: 29.0501 - accuracy: 0.2225 - val_loss: 28.3344 - val_accuracy: 0.3134\n",
            "Epoch 4/50\n",
            "35/35 [==============================] - 5s 154ms/step - loss: 27.7010 - accuracy: 0.2440 - val_loss: 26.9898 - val_accuracy: 0.3284\n",
            "Epoch 5/50\n",
            "35/35 [==============================] - 5s 154ms/step - loss: 26.4047 - accuracy: 0.2842 - val_loss: 25.7500 - val_accuracy: 0.3383\n",
            "Epoch 6/50\n",
            "35/35 [==============================] - 5s 154ms/step - loss: 25.1756 - accuracy: 0.2865 - val_loss: 24.5151 - val_accuracy: 0.6070\n",
            "Epoch 7/50\n",
            "35/35 [==============================] - 5s 154ms/step - loss: 23.9733 - accuracy: 0.3438 - val_loss: 23.3142 - val_accuracy: 0.6418\n",
            "Epoch 8/50\n",
            "35/35 [==============================] - 5s 154ms/step - loss: 22.8240 - accuracy: 0.3876 - val_loss: 22.1869 - val_accuracy: 0.6269\n",
            "Epoch 9/50\n",
            "35/35 [==============================] - 5s 154ms/step - loss: 21.7088 - accuracy: 0.4669 - val_loss: 21.1217 - val_accuracy: 0.6219\n",
            "Epoch 10/50\n",
            "35/35 [==============================] - 5s 154ms/step - loss: 20.6574 - accuracy: 0.5121 - val_loss: 20.0684 - val_accuracy: 0.6716\n",
            "Epoch 11/50\n",
            "35/35 [==============================] - 5s 154ms/step - loss: 19.6329 - accuracy: 0.5877 - val_loss: 19.0601 - val_accuracy: 0.7114\n",
            "Epoch 12/50\n",
            "35/35 [==============================] - 5s 154ms/step - loss: 18.6750 - accuracy: 0.6298 - val_loss: 18.1558 - val_accuracy: 0.6617\n",
            "Epoch 13/50\n",
            "35/35 [==============================] - 5s 154ms/step - loss: 17.7348 - accuracy: 0.6840 - val_loss: 17.2311 - val_accuracy: 0.7413\n",
            "Epoch 14/50\n",
            "35/35 [==============================] - 5s 154ms/step - loss: 16.8479 - accuracy: 0.7144 - val_loss: 16.3714 - val_accuracy: 0.7413\n",
            "Epoch 15/50\n",
            "35/35 [==============================] - 5s 154ms/step - loss: 16.0206 - accuracy: 0.7247 - val_loss: 15.5899 - val_accuracy: 0.7015\n",
            "Epoch 16/50\n",
            "35/35 [==============================] - 5s 154ms/step - loss: 15.1923 - accuracy: 0.7811 - val_loss: 14.7804 - val_accuracy: 0.7562\n",
            "Epoch 17/50\n",
            "35/35 [==============================] - 5s 154ms/step - loss: 14.4174 - accuracy: 0.8048 - val_loss: 14.0601 - val_accuracy: 0.7562\n",
            "Epoch 18/50\n",
            "35/35 [==============================] - 5s 155ms/step - loss: 13.6780 - accuracy: 0.8209 - val_loss: 13.3282 - val_accuracy: 0.7761\n",
            "Epoch 19/50\n",
            "35/35 [==============================] - 5s 154ms/step - loss: 12.9706 - accuracy: 0.8541 - val_loss: 12.6498 - val_accuracy: 0.7761\n",
            "Epoch 20/50\n",
            "35/35 [==============================] - 5s 154ms/step - loss: 12.2998 - accuracy: 0.8666 - val_loss: 12.0271 - val_accuracy: 0.7463\n",
            "Epoch 21/50\n",
            "35/35 [==============================] - 5s 154ms/step - loss: 11.6544 - accuracy: 0.8859 - val_loss: 11.4393 - val_accuracy: 0.7164\n",
            "Epoch 22/50\n",
            "35/35 [==============================] - 5s 154ms/step - loss: 11.0435 - accuracy: 0.8926 - val_loss: 10.8360 - val_accuracy: 0.7363\n",
            "Epoch 23/50\n",
            "35/35 [==============================] - 5s 154ms/step - loss: 10.4780 - accuracy: 0.8935 - val_loss: 10.2688 - val_accuracy: 0.7512\n",
            "Epoch 24/50\n",
            "35/35 [==============================] - 5s 153ms/step - loss: 9.9262 - accuracy: 0.9056 - val_loss: 9.7188 - val_accuracy: 0.7960\n",
            "Epoch 25/50\n",
            "35/35 [==============================] - 5s 154ms/step - loss: 9.3946 - accuracy: 0.9261 - val_loss: 9.2474 - val_accuracy: 0.7662\n",
            "Epoch 26/50\n",
            "35/35 [==============================] - 5s 154ms/step - loss: 8.9101 - accuracy: 0.9266 - val_loss: 8.7747 - val_accuracy: 0.7662\n",
            "Epoch 27/50\n",
            "35/35 [==============================] - 5s 154ms/step - loss: 8.4372 - accuracy: 0.9405 - val_loss: 8.3168 - val_accuracy: 0.7811\n",
            "Epoch 28/50\n",
            "35/35 [==============================] - 5s 154ms/step - loss: 7.9936 - accuracy: 0.9440 - val_loss: 7.8641 - val_accuracy: 0.8209\n",
            "Epoch 29/50\n",
            "35/35 [==============================] - 5s 154ms/step - loss: 7.5778 - accuracy: 0.9440 - val_loss: 7.4869 - val_accuracy: 0.7811\n",
            "Epoch 30/50\n",
            "35/35 [==============================] - 5s 154ms/step - loss: 7.1787 - accuracy: 0.9508 - val_loss: 7.1200 - val_accuracy: 0.7662\n",
            "Epoch 31/50\n",
            "35/35 [==============================] - 5s 154ms/step - loss: 6.8122 - accuracy: 0.9561 - val_loss: 6.7320 - val_accuracy: 0.8159\n",
            "Epoch 32/50\n",
            "35/35 [==============================] - 5s 154ms/step - loss: 6.4640 - accuracy: 0.9552 - val_loss: 6.4236 - val_accuracy: 0.7910\n",
            "Epoch 33/50\n",
            "35/35 [==============================] - 5s 154ms/step - loss: 6.1334 - accuracy: 0.9637 - val_loss: 6.1020 - val_accuracy: 0.7861\n",
            "Epoch 34/50\n",
            "35/35 [==============================] - 5s 154ms/step - loss: 5.8254 - accuracy: 0.9642 - val_loss: 5.7809 - val_accuracy: 0.8259\n",
            "Epoch 35/50\n",
            "35/35 [==============================] - 5s 154ms/step - loss: 5.5399 - accuracy: 0.9673 - val_loss: 5.5284 - val_accuracy: 0.8159\n",
            "Epoch 36/50\n",
            "35/35 [==============================] - 5s 154ms/step - loss: 5.2712 - accuracy: 0.9718 - val_loss: 5.2925 - val_accuracy: 0.7811\n",
            "Epoch 37/50\n",
            "35/35 [==============================] - 5s 154ms/step - loss: 5.0192 - accuracy: 0.9655 - val_loss: 5.0334 - val_accuracy: 0.7960\n",
            "Epoch 38/50\n",
            "35/35 [==============================] - 5s 154ms/step - loss: 4.7897 - accuracy: 0.9705 - val_loss: 4.8176 - val_accuracy: 0.7910\n",
            "Epoch 39/50\n",
            "35/35 [==============================] - 5s 154ms/step - loss: 4.5725 - accuracy: 0.9678 - val_loss: 4.6016 - val_accuracy: 0.7960\n",
            "Epoch 40/50\n",
            "35/35 [==============================] - 5s 154ms/step - loss: 4.3685 - accuracy: 0.9754 - val_loss: 4.3884 - val_accuracy: 0.8109\n",
            "Epoch 41/50\n",
            "35/35 [==============================] - 5s 154ms/step - loss: 4.1737 - accuracy: 0.9740 - val_loss: 4.2253 - val_accuracy: 0.8010\n",
            "Epoch 42/50\n",
            "35/35 [==============================] - 5s 154ms/step - loss: 3.9990 - accuracy: 0.9803 - val_loss: 4.0645 - val_accuracy: 0.7960\n",
            "Epoch 43/50\n",
            "35/35 [==============================] - 5s 154ms/step - loss: 3.8415 - accuracy: 0.9785 - val_loss: 3.9168 - val_accuracy: 0.7861\n",
            "Epoch 44/50\n",
            "35/35 [==============================] - 5s 154ms/step - loss: 3.6953 - accuracy: 0.9785 - val_loss: 3.8035 - val_accuracy: 0.7612\n",
            "Epoch 45/50\n",
            "35/35 [==============================] - 5s 154ms/step - loss: 3.5474 - accuracy: 0.9794 - val_loss: 3.6655 - val_accuracy: 0.7463\n",
            "Epoch 46/50\n",
            "35/35 [==============================] - 5s 154ms/step - loss: 3.4183 - accuracy: 0.9808 - val_loss: 3.4870 - val_accuracy: 0.8259\n",
            "Epoch 47/50\n",
            "35/35 [==============================] - 5s 154ms/step - loss: 3.2934 - accuracy: 0.9790 - val_loss: 3.3943 - val_accuracy: 0.7960\n",
            "Epoch 48/50\n",
            "35/35 [==============================] - 5s 154ms/step - loss: 3.1817 - accuracy: 0.9790 - val_loss: 3.2828 - val_accuracy: 0.7960\n",
            "Epoch 49/50\n",
            "35/35 [==============================] - 5s 154ms/step - loss: 3.0770 - accuracy: 0.9808 - val_loss: 3.1960 - val_accuracy: 0.7711\n",
            "Epoch 50/50\n",
            "35/35 [==============================] - 5s 154ms/step - loss: 2.9731 - accuracy: 0.9839 - val_loss: 3.1004 - val_accuracy: 0.7861\n"
          ],
          "name": "stdout"
        }
      ]
    },
    {
      "cell_type": "code",
      "metadata": {
        "id": "wQIbQuY8RwQY",
        "colab": {
          "base_uri": "https://localhost:8080/",
          "height": 513
        },
        "outputId": "f474c6dd-d12e-42c8-f4c6-8ea2c85dc52c"
      },
      "source": [
        "acc = H.history['accuracy']\n",
        "val_acc = H.history['val_accuracy']\n",
        "\n",
        "loss = H.history['loss']\n",
        "val_loss = H.history['val_loss']\n",
        "\n",
        "plt.figure(figsize=(8, 8))\n",
        "plt.subplot(2, 1, 1)\n",
        "plt.plot(acc, label='Training Accuracy')\n",
        "plt.plot(val_acc, label='Validation Accuracy')\n",
        "plt.legend(loc='lower right')\n",
        "plt.ylabel('Accuracy')\n",
        "#plt.ylim([min(plt.ylim()),1])\n",
        "plt.title('Training and Validation Accuracy')\n",
        "\n",
        "plt.subplot(2, 1, 2)\n",
        "plt.plot(loss, label='Training Loss')\n",
        "plt.plot(val_loss, label='Validation Loss')\n",
        "plt.legend(loc='upper right')\n",
        "plt.ylabel('Cross Entropy')\n",
        "#plt.ylim([0,1.0])\n",
        "plt.title('Training and Validation Loss')\n",
        "plt.xlabel('epoch')\n",
        "plt.show()"
      ],
      "execution_count": null,
      "outputs": [
        {
          "output_type": "display_data",
          "data": {
            "image/png": "[encoded data removed]",
            "text/plain": [
              "<Figure size 576x576 with 2 Axes>"
            ]
          },
          "metadata": {
            "tags": [],
            "needs_background": "light"
          }
        }
      ]
    },
    {
      "cell_type": "code",
      "metadata": {
        "colab": {
          "base_uri": "https://localhost:8080/"
        },
        "id": "T_aVl2pPaMSR",
        "outputId": "2374bcad-3ea3-4ebb-ae83-8513d2a31b51"
      },
      "source": [
        "import datetime\r\n",
        "\r\n",
        "now = datetime.datetime.now()\r\n",
        "date_time = now.strftime(\"%d.%m.%H:%M:%S\")\r\n",
        "print(\"date and time:\",date_time)\r\n",
        "acc = val_acc[-1]\r\n",
        "acc = round(acc, 4)\r\n",
        "print(acc)"
      ],
      "execution_count": null,
      "outputs": [
        {
          "output_type": "stream",
          "text": [
            "date and time: 14.12.05:00:57\n",
            "0.7861\n"
          ],
          "name": "stdout"
        }
      ]
    },
    {
      "cell_type": "code",
      "metadata": {
        "id": "M0ctAON_Wj-P"
      },
      "source": [
        "model.save('/content/drive/MyDrive/SoyabeanWilting/'+str(acc)+\".\"+date_time+'.h5')"
      ],
      "execution_count": null,
      "outputs": []
    },
    {
      "cell_type": "code",
      "metadata": {
        "id": "xRSkpZq_xuLr"
      },
      "source": [
        "test_data = x_test"
      ],
      "execution_count": null,
      "outputs": []
    },
    {
      "cell_type": "code",
      "metadata": {
        "id": "Rm8ilHbRRwQt"
      },
      "source": [
        "probability_model = tf.keras.Sequential([model, tf.keras.layers.Softmax()])\n",
        "predictions_test = probability_model.predict(test_data)"
      ],
      "execution_count": null,
      "outputs": []
    },
    {
      "cell_type": "code",
      "metadata": {
        "id": "Gp4sep8k2XlV",
        "colab": {
          "base_uri": "https://localhost:8080/"
        },
        "outputId": "d82be736-af39-436c-81bf-df241a6865fc"
      },
      "source": [
        "predictions_test[:10]"
      ],
      "execution_count": null,
      "outputs": [
        {
          "output_type": "execute_result",
          "data": {
            "text/plain": [
              "array([[0.18175967, 0.3520079 , 0.15618159, 0.15479492, 0.15525587],\n",
              "       [0.14890437, 0.14906505, 0.14891683, 0.14891598, 0.40419772],\n",
              "       [0.14887321, 0.14895354, 0.14887774, 0.14887567, 0.40441984],\n",
              "       [0.1513091 , 0.39976218, 0.1497607 , 0.14947951, 0.14968857],\n",
              "       [0.14931516, 0.4028039 , 0.14920704, 0.14909413, 0.14957967],\n",
              "       [0.1489687 , 0.4040463 , 0.1489698 , 0.14892426, 0.14909099],\n",
              "       [0.21856792, 0.3053417 , 0.15943274, 0.15814829, 0.15850934],\n",
              "       [0.14891887, 0.14911085, 0.14893596, 0.14893392, 0.40410042],\n",
              "       [0.1488627 , 0.14891388, 0.14886463, 0.14886321, 0.40449563],\n",
              "       [0.14940624, 0.40188533, 0.14943866, 0.14923811, 0.1500316 ]],\n",
              "      dtype=float32)"
            ]
          },
          "metadata": {
            "tags": []
          },
          "execution_count": 34
        }
      ]
    },
    {
      "cell_type": "code",
      "metadata": {
        "id": "vQk0TtbXyOHB",
        "colab": {
          "base_uri": "https://localhost:8080/"
        },
        "outputId": "69f9c7f2-8189-44f2-8d16-6241b4173c23"
      },
      "source": [
        "import csv\n",
        "pred = []\n",
        "p0 = 0\n",
        "p1 = 0\n",
        "p2 = 0\n",
        "p3 = 0\n",
        "p4 = 0\n",
        "for i in range(len(test_data)):\n",
        "    if np.argmax(predictions_test[i]) == 0: \n",
        "        p0 += 1\n",
        "        pred.append([1,0,0,0,0])\n",
        "    elif np.argmax(predictions_test[i]) == 1: \n",
        "        p1 += 1\n",
        "        pred.append([0,1,0,0,0])\n",
        "    elif np.argmax(predictions_test[i]) == 2: \n",
        "        p2 += 1\n",
        "        pred.append([0,0,1,0,0])\n",
        "    elif np.argmax(predictions_test[i]) == 3: \n",
        "        p3 += 1\n",
        "        pred.append([0,0,0,1,0])\n",
        "    elif np.argmax(predictions_test[i]) == 4: \n",
        "        p4 += 1\n",
        "        pred.append([0,0,0,0,1])\n",
        "print(p0,p1,p2,p3,p4)"
      ],
      "execution_count": null,
      "outputs": [
        {
          "output_type": "stream",
          "text": [
            "13 131 1 0 55\n"
          ],
          "name": "stdout"
        }
      ]
    },
    {
      "cell_type": "code",
      "metadata": {
        "id": "n9xopqVwNMi1"
      },
      "source": [
        ""
      ],
      "execution_count": null,
      "outputs": []
    }
  ]
}